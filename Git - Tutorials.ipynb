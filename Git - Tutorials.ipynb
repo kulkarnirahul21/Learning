{
 "cells": [
  {
   "cell_type": "markdown",
   "metadata": {},
   "source": [
    "# Create a new repository on GitHub. \n",
    "<img src=\"picture.png\",width=160,height=160>\n",
    "To avoid errors, do not initialize the new repository with README, license, or gitignore files. You can add these files after your project has been pushed to GitHub.\n",
    "\n",
    "- Open Git Bash\n",
    "- Change the current working directory to your local project."
   ]
  },
  {
   "cell_type": "markdown",
   "metadata": {},
   "source": [
    "# Initialize the local directory as a Git repository.\n",
    "$ git init"
   ]
  },
  {
   "cell_type": "markdown",
   "metadata": {},
   "source": [
    "# Add the files in your new local repository. This stages them for the first commit.\n",
    "$ git add .\n",
    "- Adds the files in the local repository and stages them for commit. To unstage a file, use 'git reset HEAD YOUR-FILE'."
   ]
  },
  {
   "cell_type": "markdown",
   "metadata": {},
   "source": [
    "# Commit the files that you've staged in your local repository.\n",
    "$ git commit -m \"First commit\"\n",
    "- Commits the tracked changes and prepares them to be pushed to a remote repository. To remove this commit and modify the file, use 'git reset --soft HEAD~1' and commit and add the file again."
   ]
  },
  {
   "cell_type": "markdown",
   "metadata": {},
   "source": [
    "# At the top of your GitHub repository's Quick Setup page, click  to copy the remote repository URL.\n",
    "<img src=\"picture2.png\",width=360,height=160>"
   ]
  },
  {
   "cell_type": "markdown",
   "metadata": {},
   "source": [
    "# In the Command prompt, add the URL for the remote repository where your local repository will be pushed.\n",
    "\n",
    "- Sets the new remote\n",
    "\n",
    "$git remote add 'origin remote repository URL'\n",
    "\n",
    "- Verifies the new remote URL\n",
    "\n",
    "$git remote -v"
   ]
  },
  {
   "cell_type": "markdown",
   "metadata": {},
   "source": [
    "# Push the changes in your local repository to GitHub.\n",
    "$git push origin master\n",
    "- Pushes the changes in your local repository up to the remote repository you specified as the origin"
   ]
  }
 ],
 "metadata": {
  "kernelspec": {
   "display_name": "Python [conda root]",
   "language": "python",
   "name": "conda-root-py"
  },
  "language_info": {
   "codemirror_mode": {
    "name": "ipython",
    "version": 3
   },
   "file_extension": ".py",
   "mimetype": "text/x-python",
   "name": "python",
   "nbconvert_exporter": "python",
   "pygments_lexer": "ipython3",
   "version": "3.5.2"
  }
 },
 "nbformat": 4,
 "nbformat_minor": 1
}
